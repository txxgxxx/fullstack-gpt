{
 "cells": [
  {
   "cell_type": "code",
   "execution_count": 48,
   "metadata": {},
   "outputs": [
    {
     "name": "stdout",
     "output_type": "stream",
     "text": [
      "\u001b[32;1m\u001b[1;3m[llm/start]\u001b[0m \u001b[1m[1:llm:ChatOpenAI] Entering LLM run with input:\n",
      "\u001b[0m{\n",
      "  \"prompts\": [\n",
      "    \"Human: How do you make italian pasta\"\n",
      "  ]\n",
      "}\n",
      "\u001b[36;1m\u001b[1;3m[llm/end]\u001b[0m \u001b[1m[1:llm:ChatOpenAI] [22.90s] Exiting LLM run with output:\n",
      "\u001b[0m{\n",
      "  \"generations\": [\n",
      "    [\n",
      "      {\n",
      "        \"text\": \"To make Italian pasta, you will need the following ingredients:\\n\\n- 2 cups of all-purpose flour\\n- 2 large eggs\\n- 1/2 teaspoon of salt\\n- Water (if needed)\\n\\nHere's a step-by-step guide to making Italian pasta:\\n\\n1. On a clean surface or in a large mixing bowl, pour the flour and create a well in the center.\\n2. Crack the eggs into the well and add the salt.\\n3. Using a fork or your fingers, gradually mix the eggs and salt into the flour, incorporating a little at a time.\\n4. Once the mixture starts to come together, knead the dough with your hands until it forms a smooth and elastic ball. If the dough feels too dry, you can add a little water, one tablespoon at a time, until it reaches the desired consistency.\\n5. Once the dough is formed, cover it with a clean kitchen towel or plastic wrap and let it rest for about 30 minutes. This will allow the gluten to relax and make the dough easier to work with.\\n6. After resting, divide the dough into smaller portions for easier handling.\\n7. Take one portion of the dough and flatten it with your hands or a rolling pin until it is about 1/4 inch thick.\\n8. If you have a pasta machine, pass the dough through the machine, starting with the widest setting and gradually reducing the thickness until you reach the desired thickness for your pasta. If you don't have a pasta machine, you can use a rolling pin to roll out the dough as thin as possible.\\n9. Once the dough is rolled out, you can cut it into your desired pasta shape. For example, you can cut it into thin strips for spaghetti or wider strips for fettuccine. You can also use a pasta machine attachment to cut the dough into different shapes like lasagna sheets or ravioli.\\n10. As you cut the pasta, dust it with a little flour to prevent sticking.\\n11. Once all the pasta is cut, you can cook it immediately in a pot of boiling salted water for about 2-3 minutes or until al dente. Fresh pasta cooks much faster than dried pasta, so keep an eye on it.\\n12. Once cooked, drain the pasta and serve it with your favorite sauce or toppings.\\n\\nEnjoy your homemade Italian pasta!\",\n",
      "        \"generation_info\": {\n",
      "          \"finish_reason\": \"stop\"\n",
      "        },\n",
      "        \"type\": \"ChatGeneration\",\n",
      "        \"message\": {\n",
      "          \"lc\": 1,\n",
      "          \"type\": \"constructor\",\n",
      "          \"id\": [\n",
      "            \"langchain\",\n",
      "            \"schema\",\n",
      "            \"messages\",\n",
      "            \"AIMessage\"\n",
      "          ],\n",
      "          \"kwargs\": {\n",
      "            \"content\": \"To make Italian pasta, you will need the following ingredients:\\n\\n- 2 cups of all-purpose flour\\n- 2 large eggs\\n- 1/2 teaspoon of salt\\n- Water (if needed)\\n\\nHere's a step-by-step guide to making Italian pasta:\\n\\n1. On a clean surface or in a large mixing bowl, pour the flour and create a well in the center.\\n2. Crack the eggs into the well and add the salt.\\n3. Using a fork or your fingers, gradually mix the eggs and salt into the flour, incorporating a little at a time.\\n4. Once the mixture starts to come together, knead the dough with your hands until it forms a smooth and elastic ball. If the dough feels too dry, you can add a little water, one tablespoon at a time, until it reaches the desired consistency.\\n5. Once the dough is formed, cover it with a clean kitchen towel or plastic wrap and let it rest for about 30 minutes. This will allow the gluten to relax and make the dough easier to work with.\\n6. After resting, divide the dough into smaller portions for easier handling.\\n7. Take one portion of the dough and flatten it with your hands or a rolling pin until it is about 1/4 inch thick.\\n8. If you have a pasta machine, pass the dough through the machine, starting with the widest setting and gradually reducing the thickness until you reach the desired thickness for your pasta. If you don't have a pasta machine, you can use a rolling pin to roll out the dough as thin as possible.\\n9. Once the dough is rolled out, you can cut it into your desired pasta shape. For example, you can cut it into thin strips for spaghetti or wider strips for fettuccine. You can also use a pasta machine attachment to cut the dough into different shapes like lasagna sheets or ravioli.\\n10. As you cut the pasta, dust it with a little flour to prevent sticking.\\n11. Once all the pasta is cut, you can cook it immediately in a pot of boiling salted water for about 2-3 minutes or until al dente. Fresh pasta cooks much faster than dried pasta, so keep an eye on it.\\n12. Once cooked, drain the pasta and serve it with your favorite sauce or toppings.\\n\\nEnjoy your homemade Italian pasta!\",\n",
      "            \"additional_kwargs\": {}\n",
      "          }\n",
      "        }\n",
      "      }\n",
      "    ]\n",
      "  ],\n",
      "  \"llm_output\": {\n",
      "    \"token_usage\": {\n",
      "      \"prompt_tokens\": 13,\n",
      "      \"completion_tokens\": 476,\n",
      "      \"total_tokens\": 489\n",
      "    },\n",
      "    \"model_name\": \"gpt-3.5-turbo\",\n",
      "    \"system_fingerprint\": null\n",
      "  },\n",
      "  \"run\": null\n",
      "}\n"
     ]
    },
    {
     "data": {
      "text/plain": [
       "\"To make Italian pasta, you will need the following ingredients:\\n\\n- 2 cups of all-purpose flour\\n- 2 large eggs\\n- 1/2 teaspoon of salt\\n- Water (if needed)\\n\\nHere's a step-by-step guide to making Italian pasta:\\n\\n1. On a clean surface or in a large mixing bowl, pour the flour and create a well in the center.\\n2. Crack the eggs into the well and add the salt.\\n3. Using a fork or your fingers, gradually mix the eggs and salt into the flour, incorporating a little at a time.\\n4. Once the mixture starts to come together, knead the dough with your hands until it forms a smooth and elastic ball. If the dough feels too dry, you can add a little water, one tablespoon at a time, until it reaches the desired consistency.\\n5. Once the dough is formed, cover it with a clean kitchen towel or plastic wrap and let it rest for about 30 minutes. This will allow the gluten to relax and make the dough easier to work with.\\n6. After resting, divide the dough into smaller portions for easier handling.\\n7. Take one portion of the dough and flatten it with your hands or a rolling pin until it is about 1/4 inch thick.\\n8. If you have a pasta machine, pass the dough through the machine, starting with the widest setting and gradually reducing the thickness until you reach the desired thickness for your pasta. If you don't have a pasta machine, you can use a rolling pin to roll out the dough as thin as possible.\\n9. Once the dough is rolled out, you can cut it into your desired pasta shape. For example, you can cut it into thin strips for spaghetti or wider strips for fettuccine. You can also use a pasta machine attachment to cut the dough into different shapes like lasagna sheets or ravioli.\\n10. As you cut the pasta, dust it with a little flour to prevent sticking.\\n11. Once all the pasta is cut, you can cook it immediately in a pot of boiling salted water for about 2-3 minutes or until al dente. Fresh pasta cooks much faster than dried pasta, so keep an eye on it.\\n12. Once cooked, drain the pasta and serve it with your favorite sauce or toppings.\\n\\nEnjoy your homemade Italian pasta!\""
      ]
     },
     "execution_count": 48,
     "metadata": {},
     "output_type": "execute_result"
    }
   ],
   "source": [
    "from langchain.chat_models import ChatOpenAI\n",
    "from langchain.callbacks import StreamingStdOutCallbackHandler\n",
    "from langchain.globals import set_llm_cache, set_debug\n",
    "from langchain.cache import InMemoryCache, SQLiteCache\n",
    "\n",
    "\n",
    "set_llm_cache(SQLiteCache(\"cache.db\"))\n",
    "\n",
    "chat = ChatOpenAI(\n",
    "    temperature=0.1,\n",
    "    # streaming=True,\n",
    "    # callbacks=[\n",
    "    #     StreamingStdOutCallbackHandler(),\n",
    "    # ],\n",
    ")\n",
    "\n",
    "chat.predict(\"How do you make italian pasta\")"
   ]
  }
 ],
 "metadata": {
  "kernelspec": {
   "display_name": "env",
   "language": "python",
   "name": "python3"
  },
  "language_info": {
   "codemirror_mode": {
    "name": "ipython",
    "version": 3
   },
   "file_extension": ".py",
   "mimetype": "text/x-python",
   "name": "python",
   "nbconvert_exporter": "python",
   "pygments_lexer": "ipython3",
   "version": "3.11.7"
  }
 },
 "nbformat": 4,
 "nbformat_minor": 2
}
